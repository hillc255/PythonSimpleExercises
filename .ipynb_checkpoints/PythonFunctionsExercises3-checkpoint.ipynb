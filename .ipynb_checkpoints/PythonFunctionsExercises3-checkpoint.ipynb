{
 "cells": [
  {
   "cell_type": "code",
   "execution_count": null,
   "metadata": {},
   "outputs": [],
   "source": [
    "#Lambda, Map and Filter Functions"
   ]
  },
  {
   "cell_type": "code",
   "execution_count": 3,
   "metadata": {},
   "outputs": [],
   "source": [
    "#Map function\n",
    "\n",
    "def square(num):\n",
    "    return num**2"
   ]
  },
  {
   "cell_type": "code",
   "execution_count": 4,
   "metadata": {},
   "outputs": [],
   "source": [
    "my_nums = [1,2,3,4,5]"
   ]
  },
  {
   "cell_type": "code",
   "execution_count": 5,
   "metadata": {},
   "outputs": [
    {
     "name": "stdout",
     "output_type": "stream",
     "text": [
      "1\n",
      "4\n",
      "9\n",
      "16\n",
      "25\n"
     ]
    }
   ],
   "source": [
    "for item in map(square,my_nums):\n",
    "    print(item)"
   ]
  },
  {
   "cell_type": "code",
   "execution_count": 6,
   "metadata": {},
   "outputs": [
    {
     "data": {
      "text/plain": [
       "[1, 4, 9, 16, 25]"
      ]
     },
     "execution_count": 6,
     "metadata": {},
     "output_type": "execute_result"
    }
   ],
   "source": [
    "list(map(square,my_nums))"
   ]
  },
  {
   "cell_type": "code",
   "execution_count": 11,
   "metadata": {},
   "outputs": [],
   "source": [
    "# splicer function\n",
    "\n",
    "def splicer(mystring):\n",
    "    if len(mystring)%2 == 0:\n",
    "        return 'EVEN'\n",
    "    else:\n",
    "        return mystring[0]\n",
    "    "
   ]
  },
  {
   "cell_type": "code",
   "execution_count": 12,
   "metadata": {},
   "outputs": [],
   "source": [
    "names = ['Andy', 'Eve', 'Sally']"
   ]
  },
  {
   "cell_type": "code",
   "execution_count": 13,
   "metadata": {},
   "outputs": [
    {
     "data": {
      "text/plain": [
       "['EVEN', 'E', 'S']"
      ]
     },
     "execution_count": 13,
     "metadata": {},
     "output_type": "execute_result"
    }
   ],
   "source": [
    "list(map(splicer,names))"
   ]
  },
  {
   "cell_type": "code",
   "execution_count": 21,
   "metadata": {},
   "outputs": [],
   "source": [
    "# Filter fuction true or false\n",
    "\n",
    "def check_even(num):\n",
    "    return num%2 == 0"
   ]
  },
  {
   "cell_type": "code",
   "execution_count": 22,
   "metadata": {},
   "outputs": [],
   "source": [
    "mynums = [1,2,3,4,5,6]"
   ]
  },
  {
   "cell_type": "code",
   "execution_count": 19,
   "metadata": {},
   "outputs": [
    {
     "data": {
      "text/plain": [
       "[2, 4, 6]"
      ]
     },
     "execution_count": 19,
     "metadata": {},
     "output_type": "execute_result"
    }
   ],
   "source": [
    "list(filter(check_even,mynums))\n",
    "\n",
    "#returns a list = [2,4,6]"
   ]
  },
  {
   "cell_type": "code",
   "execution_count": 24,
   "metadata": {},
   "outputs": [
    {
     "name": "stdout",
     "output_type": "stream",
     "text": [
      "2\n",
      "4\n",
      "6\n"
     ]
    }
   ],
   "source": [
    "for n in filter(check_even,mynums):    \n",
    "    print(n)"
   ]
  },
  {
   "cell_type": "code",
   "execution_count": 27,
   "metadata": {},
   "outputs": [],
   "source": [
    "# lambda function\n",
    "# like a regular function but anonomous function\n",
    "\n",
    "square = lambda num: num ** 2"
   ]
  },
  {
   "cell_type": "code",
   "execution_count": 28,
   "metadata": {},
   "outputs": [
    {
     "data": {
      "text/plain": [
       "25"
      ]
     },
     "execution_count": 28,
     "metadata": {},
     "output_type": "execute_result"
    }
   ],
   "source": [
    "square(5)"
   ]
  },
  {
   "cell_type": "code",
   "execution_count": 29,
   "metadata": {},
   "outputs": [
    {
     "data": {
      "text/plain": [
       "[1, 4, 9, 16, 25, 36]"
      ]
     },
     "execution_count": 29,
     "metadata": {},
     "output_type": "execute_result"
    }
   ],
   "source": [
    "#lambda use with map \n",
    "list(map(lambda num:num**2,mynums))"
   ]
  },
  {
   "cell_type": "code",
   "execution_count": 30,
   "metadata": {},
   "outputs": [
    {
     "data": {
      "text/plain": [
       "[2, 4, 6]"
      ]
     },
     "execution_count": 30,
     "metadata": {},
     "output_type": "execute_result"
    }
   ],
   "source": [
    "list(filter(lambda num:num%2 == 0, mynums))"
   ]
  },
  {
   "cell_type": "code",
   "execution_count": 31,
   "metadata": {},
   "outputs": [
    {
     "data": {
      "text/plain": [
       "['Andy', 'Eve', 'Sally']"
      ]
     },
     "execution_count": 31,
     "metadata": {},
     "output_type": "execute_result"
    }
   ],
   "source": [
    "names"
   ]
  },
  {
   "cell_type": "code",
   "execution_count": 32,
   "metadata": {},
   "outputs": [
    {
     "data": {
      "text/plain": [
       "['A', 'E', 'S']"
      ]
     },
     "execution_count": 32,
     "metadata": {},
     "output_type": "execute_result"
    }
   ],
   "source": [
    "list(map(lambda x:x[0],names))"
   ]
  },
  {
   "cell_type": "code",
   "execution_count": 33,
   "metadata": {},
   "outputs": [
    {
     "data": {
      "text/plain": [
       "['ydnA', 'evE', 'yllaS']"
      ]
     },
     "execution_count": 33,
     "metadata": {},
     "output_type": "execute_result"
    }
   ],
   "source": [
    "#reverse\n",
    "list(map(lambda x:x[::-1],names))"
   ]
  },
  {
   "cell_type": "code",
   "execution_count": 34,
   "metadata": {},
   "outputs": [],
   "source": [
    "# Nested statements and scope\n",
    "x =25\n",
    "\n",
    "def printer():\n",
    "    x = 50\n",
    "    return x"
   ]
  },
  {
   "cell_type": "code",
   "execution_count": 35,
   "metadata": {},
   "outputs": [
    {
     "name": "stdout",
     "output_type": "stream",
     "text": [
      "25\n"
     ]
    }
   ],
   "source": [
    "#returns 25 because x is definied prior to function \n",
    "#not called in function\n",
    "\n",
    "print(x)"
   ]
  },
  {
   "cell_type": "code",
   "execution_count": 36,
   "metadata": {},
   "outputs": [
    {
     "name": "stdout",
     "output_type": "stream",
     "text": [
      "50\n"
     ]
    }
   ],
   "source": [
    "#insite function call x there = 50\n",
    "\n",
    "print(printer())"
   ]
  },
  {
   "cell_type": "code",
   "execution_count": null,
   "metadata": {},
   "outputs": [],
   "source": [
    "#scope are rules LEGB rules - rules to how assigned in function\n",
    "#L = Local names asssigned in funciton def - lambas\n",
    "#E = Enclosing function locals \n",
    "#G = Global module - names top level of module file or declared global\n",
    "#B = Built in Python\n"
   ]
  },
  {
   "cell_type": "code",
   "execution_count": null,
   "metadata": {},
   "outputs": [],
   "source": [
    "# lambada num:num**2"
   ]
  },
  {
   "cell_type": "code",
   "execution_count": 40,
   "metadata": {},
   "outputs": [
    {
     "name": "stdout",
     "output_type": "stream",
     "text": [
      "Hello Sammy\n"
     ]
    }
   ],
   "source": [
    "name = 'THIS IS A GLOBAL STRING'\n",
    "def greet():\n",
    "    name = 'Sammy'\n",
    "    \n",
    "    def hello():\n",
    "        print('Hello '  + name)        \n",
    "    hello()\n",
    "    \n",
    "greet()    \n",
    "    "
   ]
  },
  {
   "cell_type": "code",
   "execution_count": 42,
   "metadata": {},
   "outputs": [
    {
     "name": "stdout",
     "output_type": "stream",
     "text": [
      "Hello IM A LOCAL\n"
     ]
    }
   ],
   "source": [
    "#LEGB rule - E - call within enclosed function\n",
    "# But if comment out name in function - selects global name\n",
    "#GLOBAL\n",
    "name = 'THIS IS A GLOBAL STRING'\n",
    "def greet():\n",
    "    \n",
    "    #ENCLOSING\n",
    "    #name = 'Sammy'\n",
    "    \n",
    "    def hello():\n",
    "        #LOCAL\n",
    "        name = 'IM A LOCAL'\n",
    "        print('Hello '  + name)        \n",
    "    hello()\n",
    "    \n",
    "greet()    \n",
    "    "
   ]
  },
  {
   "cell_type": "code",
   "execution_count": null,
   "metadata": {},
   "outputs": [],
   "source": [
    "# Take global \"L\" rule\n",
    "# result if commented out local and enclosing - left with GLOBAL \n",
    "# Hello THIS IS A GLOBAL STRING\n",
    "\n",
    "#Local -> Enclosing -> GLOBAL"
   ]
  },
  {
   "cell_type": "code",
   "execution_count": 45,
   "metadata": {},
   "outputs": [
    {
     "name": "stdout",
     "output_type": "stream",
     "text": [
      "Help on built-in function len in module builtins:\n",
      "\n",
      "len(obj, /)\n",
      "    Return the number of items in a container.\n",
      "\n"
     ]
    }
   ],
   "source": [
    "help(len ) #built in function for help"
   ]
  },
  {
   "cell_type": "code",
   "execution_count": 47,
   "metadata": {},
   "outputs": [],
   "source": [
    "#GLOBAL \n",
    "x=50\n",
    "\n",
    "def func(x):\n",
    "    print(f'X is {x}')\n",
    "    \n",
    "    #LOCAL REASSIGNMENT!\n",
    "    x = 200\n",
    "    print(f'I just locally changed x to {x}')"
   ]
  },
  {
   "cell_type": "code",
   "execution_count": 48,
   "metadata": {},
   "outputs": [
    {
     "name": "stdout",
     "output_type": "stream",
     "text": [
      "X is 50\n",
      "I just locally changed x to 200\n"
     ]
    }
   ],
   "source": [
    "func(x)"
   ]
  },
  {
   "cell_type": "code",
   "execution_count": null,
   "metadata": {},
   "outputs": [],
   "source": [
    "#globally calling x =50 but since calling function inside x=200"
   ]
  },
  {
   "cell_type": "code",
   "execution_count": null,
   "metadata": {},
   "outputs": [],
   "source": [
    "#scope is only local inside function"
   ]
  },
  {
   "cell_type": "code",
   "execution_count": 81,
   "metadata": {},
   "outputs": [],
   "source": [
    "# Gxample of global variable inside function\n",
    "# GLOBAL \n",
    "y = 50\n",
    "\n",
    "def func2(): \n",
    "    global y   \n",
    "    print(f'Y is {y}')\n",
    "    \n",
    "    ##LOCAL REASSIGNMENT ON A GLoBAL VARIABLE\n",
    "    y = 'NEW VALUE'\n",
    "    print(f'I just locally changed global Y to {y}')\n"
   ]
  },
  {
   "cell_type": "code",
   "execution_count": 82,
   "metadata": {},
   "outputs": [
    {
     "name": "stdout",
     "output_type": "stream",
     "text": [
      "50\n"
     ]
    }
   ],
   "source": [
    "print(y)"
   ]
  },
  {
   "cell_type": "code",
   "execution_count": 83,
   "metadata": {},
   "outputs": [
    {
     "name": "stdout",
     "output_type": "stream",
     "text": [
      "Y is 50\n",
      "I just locally changed global Y to NEW VALUE\n"
     ]
    }
   ],
   "source": [
    "func2()\n",
    "# Y is 50\n",
    "# I just locally changed global Y to New Value"
   ]
  },
  {
   "cell_type": "code",
   "execution_count": 84,
   "metadata": {},
   "outputs": [
    {
     "name": "stdout",
     "output_type": "stream",
     "text": [
      "NEW VALUE\n"
     ]
    }
   ],
   "source": [
    "print(y)"
   ]
  },
  {
   "cell_type": "code",
   "execution_count": 85,
   "metadata": {},
   "outputs": [],
   "source": [
    "#correct format\n",
    "\n",
    "# GLOBAL \n",
    "y = 50\n",
    "\n",
    "def func3(y): \n",
    "    # global y  - avoid this use of global \n",
    "    \n",
    "    print(f'Y is {y}')\n",
    "    \n",
    "    ##LOCAL REASSIGNMENT ON A GLoBAL VARIABLE\n",
    "    y = 'NEW VALUE'\n",
    "    print(f'I just locally changed global Y to {y}')\n",
    "\n",
    "    return y"
   ]
  },
  {
   "cell_type": "code",
   "execution_count": 86,
   "metadata": {},
   "outputs": [
    {
     "name": "stdout",
     "output_type": "stream",
     "text": [
      "50\n"
     ]
    }
   ],
   "source": [
    "print(y)"
   ]
  },
  {
   "cell_type": "code",
   "execution_count": null,
   "metadata": {},
   "outputs": [],
   "source": [
    "# Functions and methods homework\n",
    "# Hints and Tips\n",
    "# https://www.udemy.com/course/complete-python-bootcamp/learn/lecture/4411912#overview"
   ]
  },
  {
   "cell_type": "code",
   "execution_count": 6,
   "metadata": {},
   "outputs": [],
   "source": [
    "#Hints and Tips for Functions and Methods Assignment\n",
    "\n",
    "#Here are some hints for helping you complete the assignment!\n",
    "\n",
    "#1. Volume of a sphere\n",
    "\n",
    "#Write out your solution by hand as an equation with an input radius, then try to convert your logic to code.\n",
    "\n",
    "#2. Range check function\n",
    "\n",
    "#Keep in mind how to use the in operator and the range() function. How can you use in to check if something is in a list?\n",
    "\n",
    "#3. Upper Case and Lower Case strings\n",
    "\n",
    "#Whats a goo way to iterate through the string? A for loop perhaps? How can you keep track of you counts? A variable or maybe even a dictionary with a key for upper and a key for lower, then add counts to the value corresponding to the correct key.\n",
    "\n",
    "#4. Unique numbers in list.\n",
    "\n",
    "#Try using set() or even just using a for loop with a list and append numbers that you haven't already seen\n",
    "\n",
    "#5. Multiply all numbers in a list\n",
    "\n",
    "#Use a for loop to go through the list and take advantage of *= which operate similarly to +=.\n",
    "\n",
    "#6. Palindrome check\n",
    "\n",
    "#Remember what s[::-1] does if s is a string, or find a built-in way to reverse a string (function or method)\n",
    "\n",
    "#7. Pangram check\n",
    "\n",
    "#This is really tricky, but try using set() and feel free to check the answer for this one!\n"
   ]
  },
  {
   "cell_type": "code",
   "execution_count": 12,
   "metadata": {},
   "outputs": [],
   "source": [
    "# Functions and methods homeworkd\n",
    "\n",
    "# Write a function that computes the volume of a sphere \n",
    "# given its radius.\n",
    "\n",
    "#The volume of a sphere is given as V= 4/3 π r3\n",
    "#43π𝑟3\n",
    "\n",
    "pi = 3.14\n",
    "\n",
    "def vol(rad):   \n",
    "    return ((4/3) * (pi * (rad**3)))"
   ]
  },
  {
   "cell_type": "code",
   "execution_count": 13,
   "metadata": {},
   "outputs": [
    {
     "data": {
      "text/plain": [
       "33.49333333333333"
      ]
     },
     "execution_count": 13,
     "metadata": {},
     "output_type": "execute_result"
    }
   ],
   "source": [
    "# Check\n",
    "vol(2)\n",
    "#33.49333333333333"
   ]
  },
  {
   "cell_type": "code",
   "execution_count": 55,
   "metadata": {},
   "outputs": [],
   "source": [
    "#Write a function that checks whether a number \n",
    "#is in a given range (inclusive of high and low)\n",
    "\n",
    "def ran_check(num,low,high):\n",
    "    \n",
    "    #check whether number equal to inclusive range low-high\n",
    "    for i in range(low,high):\n",
    "            # high value is not inclusive in for loop so needs if statement\n",
    "            if num == high:\n",
    "                print(f'{num} is in the range between {low} and {high}')\n",
    "                break\n",
    "            elif num == i:\n",
    "                print(f'{num} is in the range between {low} and {high}')\n",
    "                break\n",
    "    if num < low or num > high:\n",
    "            print(f'{num} is NOT in the range between {low} and {high}')\n",
    "    "
   ]
  },
  {
   "cell_type": "code",
   "execution_count": 56,
   "metadata": {},
   "outputs": [
    {
     "name": "stdout",
     "output_type": "stream",
     "text": [
      "7 is in the range between 2 and 7\n"
     ]
    }
   ],
   "source": [
    "#check\n",
    "ran_check(7,2,7)"
   ]
  },
  {
   "cell_type": "code",
   "execution_count": 57,
   "metadata": {},
   "outputs": [
    {
     "name": "stdout",
     "output_type": "stream",
     "text": [
      "8 is NOT in the range between 2 and 7\n"
     ]
    }
   ],
   "source": [
    "#check\n",
    "ran_check(8,2,7)"
   ]
  },
  {
   "cell_type": "code",
   "execution_count": 58,
   "metadata": {},
   "outputs": [
    {
     "name": "stdout",
     "output_type": "stream",
     "text": [
      "5 is in the range between 2 and 7\n"
     ]
    }
   ],
   "source": [
    "#Check\n",
    "ran_check(5,2,7)\n",
    "#5 is in the range between 2 and 7"
   ]
  },
  {
   "cell_type": "code",
   "execution_count": 59,
   "metadata": {},
   "outputs": [],
   "source": [
    "#If you only wanted to return a boolean:\n",
    "def ran_bool(num,low,high):\n",
    "    if num < low or num > high:\n",
    "            return False\n",
    "    else:\n",
    "            return True"
   ]
  },
  {
   "cell_type": "code",
   "execution_count": 60,
   "metadata": {},
   "outputs": [
    {
     "data": {
      "text/plain": [
       "True"
      ]
     },
     "execution_count": 60,
     "metadata": {},
     "output_type": "execute_result"
    }
   ],
   "source": [
    "#check - True\n",
    "ran_bool(3,1,10)"
   ]
  },
  {
   "cell_type": "code",
   "execution_count": 61,
   "metadata": {},
   "outputs": [
    {
     "data": {
      "text/plain": [
       "False"
      ]
     },
     "execution_count": 61,
     "metadata": {},
     "output_type": "execute_result"
    }
   ],
   "source": [
    "#check - False\n",
    "ran_bool(7,4,5)"
   ]
  },
  {
   "cell_type": "code",
   "execution_count": 89,
   "metadata": {},
   "outputs": [],
   "source": [
    "#Write a Python function that accepts a string and calculates \n",
    "#the number of upper case letters and lower case letters.\n",
    "\n",
    "#Sample String : 'Hello Mr. Rogers, how are you this fine Tuesday?'\n",
    "#Expected Output : \n",
    "#No. of Upper case characters : 4\n",
    "#No. of Lower case Characters : 33\n",
    "#HINT: Two string methods that might prove useful:\n",
    "#.isupper() and .islower()\n",
    "\n",
    "#If you feel ambitious, explore the Collections module to solve this problem!\n",
    "\n",
    "\n",
    "def up_low(s):\n",
    "    \n",
    "    count_lower = 0\n",
    "    count_upper = 0\n",
    "    \n",
    "    for i in s:\n",
    "        if (i.isupper()) == True:\n",
    "            # count_upper = count_upper + 1\n",
    "            count_upper+= 1\n",
    "        elif (i.islower()) == True:\n",
    "            # count_lower = count_lower + 1\n",
    "            count_lower+= 1\n",
    "    print(f'Original String : {s}') \n",
    "    print(f'No. of Upper case characters : {count_upper}')\n",
    "    print(f'No. of Lower case characters : {count_lower}')\n"
   ]
  },
  {
   "cell_type": "code",
   "execution_count": 90,
   "metadata": {},
   "outputs": [
    {
     "name": "stdout",
     "output_type": "stream",
     "text": [
      "Original String : Hello Mr. Rogers, how are you this fine Tuesday?\n",
      "No. of Upper case characters : 4\n",
      "No. of Lower case characters : 33\n"
     ]
    }
   ],
   "source": [
    "s = 'Hello Mr. Rogers, how are you this fine Tuesday?'\n",
    "up_low(s)\n"
   ]
  },
  {
   "cell_type": "code",
   "execution_count": null,
   "metadata": {},
   "outputs": [],
   "source": [
    "#Answer\n",
    "#Original String :  Hello Mr. Rogers, how are you this fine Tuesday?\n",
    "#No. of Upper case characters :  4\n",
    "#No. of Lower case Characters :  33"
   ]
  },
  {
   "cell_type": "code",
   "execution_count": 92,
   "metadata": {},
   "outputs": [
    {
     "name": "stdout",
     "output_type": "stream",
     "text": [
      "Original String : Unsolved Mysteries with Robert Stack - Season 10 Episode 4\n",
      "No. of Upper case characters : 6\n",
      "No. of Lower case characters : 39\n"
     ]
    }
   ],
   "source": [
    "z = 'Unsolved Mysteries with Robert Stack - Season 10 Episode 4'\n",
    "up_low(z)"
   ]
  },
  {
   "cell_type": "code",
   "execution_count": null,
   "metadata": {},
   "outputs": [],
   "source": [
    "#Write a Python function that takes a list and \n",
    "#returns a new list with unique elements of the first list.\n",
    "\n",
    "#Sample List : [1,1,1,1,2,2,3,3,3,3,4,5]\n",
    "#Unique List : [1, 2, 3, 4, 5]\n",
    "\n",
    "def unique_list(lst):"
   ]
  },
  {
   "cell_type": "code",
   "execution_count": null,
   "metadata": {},
   "outputs": [],
   "source": [
    "unique_list([1,1,1,1,2,2,3,3,3,3,4,5])\n",
    "#[1, 2, 3, 4, 5]"
   ]
  }
 ],
 "metadata": {
  "kernelspec": {
   "display_name": "Python 3",
   "language": "python",
   "name": "python3"
  },
  "language_info": {
   "codemirror_mode": {
    "name": "ipython",
    "version": 3
   },
   "file_extension": ".py",
   "mimetype": "text/x-python",
   "name": "python",
   "nbconvert_exporter": "python",
   "pygments_lexer": "ipython3",
   "version": "3.7.4"
  }
 },
 "nbformat": 4,
 "nbformat_minor": 2
}
