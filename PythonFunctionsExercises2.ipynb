{
 "cells": [
  {
   "cell_type": "code",
   "execution_count": 1,
   "metadata": {},
   "outputs": [],
   "source": [
    "#Python Functions Exercises2\n",
    "\n",
    "# Warmup 1\n",
    "#LESSER OF TWO EVENS: Write a function that returns the lesser of two given numbers if both numbers are even, \n",
    "#but returns the greater if one or both numbers are odd\n",
    "#lesser_of_two_evens(2,4) --> 2\n",
    "#lesser_of_two_evens(2,5) --> 5\n",
    "\n",
    "def lesser_of_two_evens(a,b):\n",
    "    \n",
    "    #check if both numbers are even\n",
    "    if a %2 == 0 and b %2 == 0:\n",
    "        \n",
    "        # return the lesser of two given numbers\n",
    "        return min(a,b)\n",
    "    \n",
    "    # return the greater one if both nmumbers odd\n",
    "    else:\n",
    "        return max(a,b)\n"
   ]
  },
  {
   "cell_type": "code",
   "execution_count": 14,
   "metadata": {},
   "outputs": [],
   "source": [
    "#Python Functions Exercises2\n",
    "\n",
    "# ANSWER - Warmup 1\n",
    "#LESSER OF TWO EVENS: Write a function that returns the lesser of two given numbers if both numbers are even, \n",
    "#but returns the greater if one or both numbers are odd\n",
    "#lesser_of_two_evens(2,4) --> 2\n",
    "#lesser_of_two_evens(2,5) --> 5\n",
    "\n",
    "def lesser_of_two_evens(a,b): \n",
    "    \n",
    "    if a%2 == 0 and b%2 == 0:\n",
    "        #BOTH NuMBERS ARE EVEN!\n",
    "        # return the lesser of two given numbers\n",
    "        if a < b:\n",
    "            result = a\n",
    "        else:\n",
    "            result = b \n",
    "    else:\n",
    "        # ONE OR BOTH NUMBERS ARE ODD!\n",
    "        if a > b:\n",
    "            result =a\n",
    "        else:\n",
    "            result =b\n",
    "     \n",
    "    return result\n"
   ]
  },
  {
   "cell_type": "code",
   "execution_count": 15,
   "metadata": {},
   "outputs": [
    {
     "data": {
      "text/plain": [
       "2"
      ]
     },
     "execution_count": 15,
     "metadata": {},
     "output_type": "execute_result"
    }
   ],
   "source": [
    "lesser_of_two_evens(2,4)"
   ]
  },
  {
   "cell_type": "code",
   "execution_count": 16,
   "metadata": {},
   "outputs": [
    {
     "data": {
      "text/plain": [
       "5"
      ]
     },
     "execution_count": 16,
     "metadata": {},
     "output_type": "execute_result"
    }
   ],
   "source": [
    "lesser_of_two_evens(2,5)"
   ]
  },
  {
   "cell_type": "code",
   "execution_count": 6,
   "metadata": {},
   "outputs": [],
   "source": [
    "# Warmup 2\n",
    "# ANIMAL CRACKERS: Write a function takes a two-word string and returns True if both words begin with same letter¶\n",
    "# animal_crackers('Levelheaded Llama') --> True\n",
    "# animal_crackers('Crazy Kangaroo') --> False\n",
    "\n",
    "def animal_crackers(twowordstring):\n",
    "    \n",
    "    #split the two words in the string\n",
    "    words = twowordstring.split()\n",
    "    \n",
    "    #create list of first character in each word\n",
    "    letters = [word[0] for word in words]\n",
    "  \n",
    "    #compare first letter to see if they are the same\n",
    "    if letters[0] == letters[1]:\n",
    "\n",
    "    #if both word words begin with same letter - return True\n",
    "        return True\n",
    "    \n",
    "    #else return false\n",
    "    else:\n",
    "        return False"
   ]
  },
  {
   "cell_type": "code",
   "execution_count": 22,
   "metadata": {},
   "outputs": [],
   "source": [
    "#answer\n",
    "\n",
    "# Warmup 2\n",
    "# ANIMAL CRACKERS: Write a function takes a two-word string and returns True if both words begin with same letter¶\n",
    "# animal_crackers('Levelheaded Llama') --> True\n",
    "# animal_crackers('Crazy Kangaroo') --> False\n",
    "\n",
    "def animal_crackers(twowordstring):\n",
    "    \n",
    "    #split the two words in the string after making lower case\n",
    "    words = twowordstring.lower().split()\n",
    "    \n",
    "    # 0,1 refers to index of the word in the list\n",
    "    # 0,0 refers to the index of the first letter in the word\n",
    "    return words[0][0] == words[1][0]"
   ]
  },
  {
   "cell_type": "code",
   "execution_count": 23,
   "metadata": {},
   "outputs": [
    {
     "data": {
      "text/plain": [
       "True"
      ]
     },
     "execution_count": 23,
     "metadata": {},
     "output_type": "execute_result"
    }
   ],
   "source": [
    "animal_crackers('Levelheaded Llama')"
   ]
  },
  {
   "cell_type": "code",
   "execution_count": 24,
   "metadata": {},
   "outputs": [
    {
     "data": {
      "text/plain": [
       "False"
      ]
     },
     "execution_count": 24,
     "metadata": {},
     "output_type": "execute_result"
    }
   ],
   "source": [
    "animal_crackers('Crazy Kangaroo')"
   ]
  },
  {
   "cell_type": "code",
   "execution_count": 17,
   "metadata": {},
   "outputs": [],
   "source": [
    "#Warmup exercise 3\n",
    "#MAKES TWENTY: Given two integers, return True if the sum of the integers is 20 or if one of the integers is 20. If not, return False\n",
    "#makes_twenty(20,10) --> True\n",
    "#makes_twenty(12,8) --> True\n",
    "# makes_twenty(2,3) --> False\n",
    "\n",
    "def makes_twenty(a,b):\n",
    "    if (a + b == 20) or (a == 20) or (b == 20):\n",
    "        return True\n",
    "    else:\n",
    "        return False\n"
   ]
  },
  {
   "cell_type": "code",
   "execution_count": 27,
   "metadata": {},
   "outputs": [],
   "source": [
    "#answer\n",
    "\n",
    "#Warmup exercise 3\n",
    "#MAKES TWENTY: Given two integers, return True if the sum of the integers is 20 or if one of the integers is 20. If not, return False\n",
    "#makes_twenty(20,10) --> True\n",
    "#makes_twenty(12,8) --> True\n",
    "# makes_twenty(2,3) --> False\n",
    "\n",
    "def makes_twenty(a,b):\n",
    "    return (a + b) == 20 or a == 20 or b == 20\n",
    "    return False\n"
   ]
  },
  {
   "cell_type": "code",
   "execution_count": 28,
   "metadata": {},
   "outputs": [
    {
     "data": {
      "text/plain": [
       "True"
      ]
     },
     "execution_count": 28,
     "metadata": {},
     "output_type": "execute_result"
    }
   ],
   "source": [
    "makes_twenty(20,10)"
   ]
  },
  {
   "cell_type": "code",
   "execution_count": 29,
   "metadata": {},
   "outputs": [
    {
     "data": {
      "text/plain": [
       "False"
      ]
     },
     "execution_count": 29,
     "metadata": {},
     "output_type": "execute_result"
    }
   ],
   "source": [
    "makes_twenty(2,3)"
   ]
  },
  {
   "cell_type": "code",
   "execution_count": 61,
   "metadata": {},
   "outputs": [],
   "source": [
    "# Level 1.1 functions\n",
    "#OLD MACDONALD: Write a function that capitalizes the first and fourth letters of a name\n",
    "#old_macdonald('macdonald') --> MacDonald\n",
    "#Note: 'macdonald'.capitalize() returns 'Macdonald'\n",
    "\n",
    "def old_macdonald(name):\n",
    "    #final name returned\n",
    "    result = \"\"\n",
    "    \n",
    "    #make sure all letters are lowercase\n",
    "    lname = name.lower()\n",
    "    \n",
    "    #capitalize first letter\n",
    "    fname = lname.capitalize()\n",
    "    \n",
    "    #get first 3 letters and add to upper case forth letter then all the other letters\n",
    "    result = fname[0:3] + fname[3].upper() + fname[4:]\n",
    "    \n",
    "    #return the changed name\n",
    "    return result\n",
    "    "
   ]
  },
  {
   "cell_type": "code",
   "execution_count": 32,
   "metadata": {},
   "outputs": [],
   "source": [
    "#answer\n",
    "\n",
    "# Level 1.1 functions\n",
    "#OLD MACDONALD: Write a function that capitalizes the first and fourth letters of a name\n",
    "#old_macdonald('macdonald') --> MacDonald\n",
    "#Note: 'macdonald'.capitalize() returns 'Macdonald'\n",
    "\n",
    "def old_macdonald(name):\n",
    "    first_half = name[:3]\n",
    "    second_half = name[3:]\n",
    "    \n",
    "    return first_half.capitalize() + second_half.capitalize()\n",
    "    "
   ]
  },
  {
   "cell_type": "code",
   "execution_count": 34,
   "metadata": {},
   "outputs": [],
   "source": [
    "# answer 2 - Upper\n",
    "\n",
    "def old_macdonald(name):\n",
    "    first_letter = name[0]\n",
    "    inbetween = name[1:3]\n",
    "    fourth_letter = name[3]\n",
    "    rest = name[4:]\n",
    "    \n",
    "    return first_letter.upper() + inbetween + fourth_letter.upper() + rest\n",
    "      "
   ]
  },
  {
   "cell_type": "code",
   "execution_count": 35,
   "metadata": {},
   "outputs": [
    {
     "data": {
      "text/plain": [
       "'MacDonald'"
      ]
     },
     "execution_count": 35,
     "metadata": {},
     "output_type": "execute_result"
    }
   ],
   "source": [
    "old_macdonald('macdonald')"
   ]
  },
  {
   "cell_type": "code",
   "execution_count": 73,
   "metadata": {},
   "outputs": [],
   "source": [
    "#level 1.2 function\n",
    "\n",
    "#MASTER YODA: Given a sentence, return a sentence with the words reversed\n",
    "#master_yoda('I am home') --> 'home am I'\n",
    "#master_yoda('We are ready') --> 'ready are We'\n",
    "#Note: The .join() method may be useful here. The .join() method allows you to join together strings in a list with some connector string. For example, some uses of the .join() method:\n",
    "\n",
    "#>>> \"--\".join(['a','b','c'])\n",
    "#>>> 'a--b--c'\n",
    "#This means if you had a list of words you wanted to turn back into a sentence, you could just join them with a single space string:\n",
    "\n",
    "#>>> \" \".join(['Hello','world'])\n",
    "#>>> \"Hello world\"\n",
    "\n",
    "def master_yoda(text):\n",
    "    #create variable for result and list for split words\n",
    "    result=\"\"\n",
    "    ylist = []\n",
    "    \n",
    "    #split the words of the text\n",
    "    ylist= text.split()\n",
    "    \n",
    "    #reorder words in list and join them\n",
    "    result = \"\".join(ylist[2] +\" \"+ ylist[1] + \" \"+ylist[0])\n",
    "    \n",
    "    return result\n",
    "    "
   ]
  },
  {
   "cell_type": "code",
   "execution_count": 36,
   "metadata": {},
   "outputs": [],
   "source": [
    "#answer\n",
    "\n",
    "def master_yoda(text):\n",
    "    wordlist = text.split()\n",
    "    reverse_word_list = wordlist[::-1]\n",
    "    return ' '.join(reverse_word_list)\n"
   ]
  },
  {
   "cell_type": "code",
   "execution_count": 37,
   "metadata": {},
   "outputs": [
    {
     "data": {
      "text/plain": [
       "'home am I'"
      ]
     },
     "execution_count": 37,
     "metadata": {},
     "output_type": "execute_result"
    }
   ],
   "source": [
    "# Check\n",
    "master_yoda('I am home')"
   ]
  },
  {
   "cell_type": "code",
   "execution_count": 75,
   "metadata": {},
   "outputs": [
    {
     "data": {
      "text/plain": [
       "'ready are We'"
      ]
     },
     "execution_count": 75,
     "metadata": {},
     "output_type": "execute_result"
    }
   ],
   "source": [
    "# Check\n",
    "master_yoda('We are ready')"
   ]
  },
  {
   "cell_type": "code",
   "execution_count": 39,
   "metadata": {},
   "outputs": [],
   "source": [
    "#level 1.3 ALMOST THERE: Given an integer n, return True if n is within 10 of either 100 or 200\n",
    "#almost_there(90) --> True\n",
    "#almost_there(104) --> True\n",
    "#almost_there(150) --> False\n",
    "#almost_there(209) --> True\n",
    "#NOTE: abs(num) returns the absolute value of a number\n",
    "\n",
    "def almost_there(n):\n",
    "    \n",
    "    #check if n is in the range of 90-110 or 190-210, return True\n",
    "    if n in range(90,111):\n",
    "        return True\n",
    "    if n in range(190,211):\n",
    "        return True    \n",
    "    #else return False\n",
    "    else:\n",
    "        return False"
   ]
  },
  {
   "cell_type": "code",
   "execution_count": 40,
   "metadata": {},
   "outputs": [],
   "source": [
    "#answer\n",
    "\n",
    "def almost_there(n):\n",
    "    return (abs(100-n) <= 10) or (abs(200-n) <= 10)"
   ]
  },
  {
   "cell_type": "code",
   "execution_count": 41,
   "metadata": {},
   "outputs": [
    {
     "data": {
      "text/plain": [
       "True"
      ]
     },
     "execution_count": 41,
     "metadata": {},
     "output_type": "execute_result"
    }
   ],
   "source": [
    "# Check\n",
    "almost_there(104)"
   ]
  },
  {
   "cell_type": "code",
   "execution_count": 42,
   "metadata": {},
   "outputs": [
    {
     "data": {
      "text/plain": [
       "False"
      ]
     },
     "execution_count": 42,
     "metadata": {},
     "output_type": "execute_result"
    }
   ],
   "source": [
    "# Check\n",
    "almost_there(150)"
   ]
  },
  {
   "cell_type": "code",
   "execution_count": 43,
   "metadata": {},
   "outputs": [
    {
     "data": {
      "text/plain": [
       "True"
      ]
     },
     "execution_count": 43,
     "metadata": {},
     "output_type": "execute_result"
    }
   ],
   "source": [
    "# Check\n",
    "almost_there(209)"
   ]
  },
  {
   "cell_type": "code",
   "execution_count": 56,
   "metadata": {},
   "outputs": [],
   "source": [
    "# Level 2 Exercises - function\n",
    "\n",
    "#FIND 33:\n",
    "#Given a list of ints, return True if the array contains a 3 next to a 3 somewhere.\n",
    "\n",
    "#has_33([1, 3, 3]) → True\n",
    "#has_33([1, 3, 1, 3]) → False\n",
    "#has_33([3, 1, 3]) → False\n",
    "\n",
    "def has_33(nums):\n",
    "    \n",
    "    #get length of list\n",
    "    length_nums = len(nums)\n",
    "    \n",
    "    #loop comparing list num 3 if next to another 3\n",
    "    for i in range(length_nums - 1):\n",
    "        current_item, next_item = nums[i], nums[i + 1]\n",
    "        print(current_item, next_item)\n",
    "        if current_item == 3 and next_item == 3:\n",
    "            return True\n",
    "        elif i == length_nums - 2:\n",
    "            return False"
   ]
  },
  {
   "cell_type": "code",
   "execution_count": 1,
   "metadata": {},
   "outputs": [],
   "source": [
    "#answer 2.1\n",
    "\n",
    "def has_33(nums):\n",
    "    for i in range(0, len(nums)-1):\n",
    "      \n",
    "        # nicer looking alternative in commented code\n",
    "        #if nums[i] == 3 and nums[i+1] == 3:\n",
    "    \n",
    "        if nums[i:i+2] == [3,3]:\n",
    "            return True  \n",
    "    \n",
    "    return False"
   ]
  },
  {
   "cell_type": "code",
   "execution_count": 2,
   "metadata": {},
   "outputs": [
    {
     "data": {
      "text/plain": [
       "True"
      ]
     },
     "execution_count": 2,
     "metadata": {},
     "output_type": "execute_result"
    }
   ],
   "source": [
    "# Check\n",
    "has_33([1, 3, 3])"
   ]
  },
  {
   "cell_type": "code",
   "execution_count": 3,
   "metadata": {},
   "outputs": [
    {
     "data": {
      "text/plain": [
       "False"
      ]
     },
     "execution_count": 3,
     "metadata": {},
     "output_type": "execute_result"
    }
   ],
   "source": [
    "# Check\n",
    "has_33([1, 3, 1, 3])"
   ]
  },
  {
   "cell_type": "code",
   "execution_count": 4,
   "metadata": {},
   "outputs": [
    {
     "data": {
      "text/plain": [
       "False"
      ]
     },
     "execution_count": 4,
     "metadata": {},
     "output_type": "execute_result"
    }
   ],
   "source": [
    "# Check\n",
    "has_33([3, 1, 3])"
   ]
  },
  {
   "cell_type": "code",
   "execution_count": 61,
   "metadata": {},
   "outputs": [
    {
     "name": "stdout",
     "output_type": "stream",
     "text": [
      "1 7\n",
      "7 8\n",
      "8 9\n",
      "9 0\n",
      "0 3\n",
      "3 8\n",
      "8 8\n",
      "8 9\n"
     ]
    },
    {
     "data": {
      "text/plain": [
       "False"
      ]
     },
     "execution_count": 61,
     "metadata": {},
     "output_type": "execute_result"
    }
   ],
   "source": [
    "# Check\n",
    "has_33([1,7,8,9,0,3,8,8,9])"
   ]
  },
  {
   "cell_type": "code",
   "execution_count": 70,
   "metadata": {},
   "outputs": [],
   "source": [
    "#Level 2.2\n",
    "#PAPER DOLL: Given a string, return a string where for every character in the original there are three characters\n",
    "#paper_doll('Hello') --> 'HHHeeellllllooo'\n",
    "#paper_doll('Mississippi') --> 'MMMiiissssssiiippppppiii'\n",
    "\n",
    "def paper_doll(text):\n",
    "    \n",
    "    #create an empty string\n",
    "    three_char = \"\"\n",
    "    \n",
    "    #for loop will get every character in sting\n",
    "    for i in text:\n",
    "    \n",
    "        #add each character 3x to the existing string\n",
    "        three_char = three_char + i + i + i\n",
    "    return three_char"
   ]
  },
  {
   "cell_type": "code",
   "execution_count": 6,
   "metadata": {},
   "outputs": [],
   "source": [
    "#answer 2.2\n",
    "\n",
    "def paper_doll(text):\n",
    "    result = ''\n",
    "    for char in text:\n",
    "        result += char * 3\n",
    "    return result"
   ]
  },
  {
   "cell_type": "code",
   "execution_count": 7,
   "metadata": {},
   "outputs": [
    {
     "data": {
      "text/plain": [
       "'HHHeeellllllooo'"
      ]
     },
     "execution_count": 7,
     "metadata": {},
     "output_type": "execute_result"
    }
   ],
   "source": [
    "# Check\n",
    "paper_doll('Hello')"
   ]
  },
  {
   "cell_type": "code",
   "execution_count": 8,
   "metadata": {},
   "outputs": [
    {
     "data": {
      "text/plain": [
       "'MMMiiissssssiiissssssiiippppppiii'"
      ]
     },
     "execution_count": 8,
     "metadata": {},
     "output_type": "execute_result"
    }
   ],
   "source": [
    "# Check\n",
    "paper_doll('Mississippi')"
   ]
  },
  {
   "cell_type": "code",
   "execution_count": 73,
   "metadata": {},
   "outputs": [],
   "source": [
    "#level 2.3\n",
    "#BLACKJACK: Given three integers between 1 and 11, if their sum is less than or equal to 21, return their sum. \n",
    "#If their sum exceeds 21 and there's an eleven, reduce the total sum by 10. Finally, \n",
    "#if the sum (even after adjustment) exceeds 21, return 'BUST'\n",
    "#blackjack(5,6,7) --> 18\n",
    "#blackjack(9,9,9) --> 'BUST'\n",
    "#blackjack(9,9,11) --> 19\n",
    "\n",
    "def blackjack(a,b,c):\n",
    "    sum = a + b + c\n",
    "    #if sum a+b+c < = 21 then return sum\n",
    "    if sum < 21:\n",
    "        return sum\n",
    "    #if a or b or c == 11 and sum a+b+c > 21 then return sum -10\n",
    "    if sum > 21 and a==11 or b==11 or c==11:\n",
    "        return sum - 10\n",
    "    #else > 21 return 'BUST'\n",
    "    else:\n",
    "        return 'BUST'"
   ]
  },
  {
   "cell_type": "code",
   "execution_count": 9,
   "metadata": {},
   "outputs": [],
   "source": [
    "#answer 2.3\n",
    "\n",
    "def blackjack(a,b,c):\n",
    "    \n",
    "    if sum((a,b,c)) <= 21:\n",
    "        return sum((a,b,c))\n",
    "    elif sum((a,b,c)) <=31 and 11 in (a,b,c):\n",
    "        return sum((a,b,c)) - 10\n",
    "    else:\n",
    "        return 'BUST'"
   ]
  },
  {
   "cell_type": "code",
   "execution_count": 10,
   "metadata": {},
   "outputs": [
    {
     "data": {
      "text/plain": [
       "18"
      ]
     },
     "execution_count": 10,
     "metadata": {},
     "output_type": "execute_result"
    }
   ],
   "source": [
    "# Check\n",
    "blackjack(5,6,7)"
   ]
  },
  {
   "cell_type": "code",
   "execution_count": 11,
   "metadata": {},
   "outputs": [
    {
     "data": {
      "text/plain": [
       "'BUST'"
      ]
     },
     "execution_count": 11,
     "metadata": {},
     "output_type": "execute_result"
    }
   ],
   "source": [
    "# Check\n",
    "blackjack(9,9,9)"
   ]
  },
  {
   "cell_type": "code",
   "execution_count": 12,
   "metadata": {},
   "outputs": [
    {
     "data": {
      "text/plain": [
       "19"
      ]
     },
     "execution_count": 12,
     "metadata": {},
     "output_type": "execute_result"
    }
   ],
   "source": [
    "# Check\n",
    "blackjack(9,9,11)"
   ]
  },
  {
   "cell_type": "code",
   "execution_count": 254,
   "metadata": {},
   "outputs": [],
   "source": [
    "# level 2.4\n",
    "#SUMMER OF '69: Return the sum of the numbers in the array, \n",
    "#except ignore sections of numbers starting with a 6 and extending to the next 9 \n",
    "#(every 6 will be followed by at least one 9). Return 0 for no numbers.\n",
    "#summer_69([1, 3, 5]) --> 9\n",
    "#summer_69([4, 5, 6, 7, 8, 9]) --> 9\n",
    "#summer_69([2, 1, 6, 9, 11]) --> 14\n",
    "\n",
    "def summer_69(arr):\n",
    "    \n",
    "    #get length of array\n",
    "    array_length = len(arr)\n",
    "    \n",
    "    #if no 6 in array, sum numbers in array\n",
    "    if 6 not in arr:\n",
    "        return sum(arr)\n",
    "    \n",
    "    #if 6 or 9 is in array, ignore these numbers and those between 6 and 9\n",
    "    else:   \n",
    "        index  = arr.index(6) \n",
    "        index2 = arr.index(9)\n",
    "        \n",
    "        #if 9 is at the end of the array, just print the array through but not including 6\n",
    "        if index2 == array_length - 1:\n",
    "            return sum(arr[0:index])\n",
    "\n",
    "        # print all numbers up to but not including 6 added to numbers greater than 9 to the end of the list\n",
    "        else:\n",
    "            total =(sum(arr[0:index])) +  (sum(arr[index2 +1:array_length]))\n",
    "            return total\n",
    "\n"
   ]
  },
  {
   "cell_type": "code",
   "execution_count": null,
   "metadata": {},
   "outputs": [],
   "source": [
    "#answer 2.4\n",
    "def summer_69(arr):\n",
    "    total = 0\n",
    "    add = True\n",
    "    for num in arr:\n",
    "        while add:\n",
    "            if num != 6:\n",
    "                total += num\n",
    "                break\n",
    "            else:\n",
    "                add = False\n",
    "        while not add:\n",
    "            if num != 9:\n",
    "                break\n",
    "            else:\n",
    "                add = True\n",
    "                break\n",
    "    return total"
   ]
  },
  {
   "cell_type": "code",
   "execution_count": 255,
   "metadata": {},
   "outputs": [
    {
     "data": {
      "text/plain": [
       "9"
      ]
     },
     "execution_count": 255,
     "metadata": {},
     "output_type": "execute_result"
    }
   ],
   "source": [
    "# Check\n",
    "summer_69([1, 3, 5])"
   ]
  },
  {
   "cell_type": "code",
   "execution_count": 256,
   "metadata": {},
   "outputs": [
    {
     "data": {
      "text/plain": [
       "9"
      ]
     },
     "execution_count": 256,
     "metadata": {},
     "output_type": "execute_result"
    }
   ],
   "source": [
    "# Check\n",
    "summer_69([4, 5, 6, 7, 8, 9])"
   ]
  },
  {
   "cell_type": "code",
   "execution_count": 257,
   "metadata": {},
   "outputs": [
    {
     "data": {
      "text/plain": [
       "14"
      ]
     },
     "execution_count": 257,
     "metadata": {},
     "output_type": "execute_result"
    }
   ],
   "source": [
    "# Check\n",
    "summer_69([2, 1, 6, 9, 11])"
   ]
  },
  {
   "cell_type": "code",
   "execution_count": 18,
   "metadata": {},
   "outputs": [],
   "source": [
    "\n",
    "#challenging functions 1.1\n",
    "\n",
    "#SPY GAME: Write a function that takes in a list of integers and \n",
    "# returns True if it contains 007 in order\n",
    "# spy_game([1,2,4,0,0,7,5]) --> True\n",
    "# spy_game([1,0,2,4,0,5,7]) --> True\n",
    "# spy_game([1,7,2,0,4,5,0]) --> False\n",
    "\n",
    "def spy_game(nums):\n",
    "    \n",
    "    #check if 7 appears in this list     \n",
    "    if 7 not in nums:        \n",
    "        return False\n",
    "    \n",
    "    elif 7 in nums:  \n",
    "        #get the index for y\n",
    "        index  = nums.index(7)\n",
    "        \n",
    "        #count number of 2s and if 2 return True     \n",
    "        count = nums[0:index].count(0) \n",
    "        if count != 2:\n",
    "            return False\n",
    "        else:\n",
    "            return True\n",
    "           \n",
    "   "
   ]
  },
  {
   "cell_type": "code",
   "execution_count": 13,
   "metadata": {},
   "outputs": [],
   "source": [
    "#answer challenging 1.1\n",
    "\n",
    "def spy_game(nums):\n",
    "\n",
    "    code = [0,0,7,'x']\n",
    "    \n",
    "    for num in nums:\n",
    "        if num == code[0]:\n",
    "            code.pop(0)   # code.remove(num) also works\n",
    "       \n",
    "    return len(code) == 1"
   ]
  },
  {
   "cell_type": "code",
   "execution_count": 14,
   "metadata": {},
   "outputs": [
    {
     "data": {
      "text/plain": [
       "True"
      ]
     },
     "execution_count": 14,
     "metadata": {},
     "output_type": "execute_result"
    }
   ],
   "source": [
    "# Check\n",
    "spy_game([1,2,4,0,0,7,5])\n",
    "#True"
   ]
  },
  {
   "cell_type": "code",
   "execution_count": 15,
   "metadata": {},
   "outputs": [
    {
     "data": {
      "text/plain": [
       "True"
      ]
     },
     "execution_count": 15,
     "metadata": {},
     "output_type": "execute_result"
    }
   ],
   "source": [
    "# Check\n",
    "spy_game([1,0,2,4,0,5,7])\n",
    "#True"
   ]
  },
  {
   "cell_type": "code",
   "execution_count": 16,
   "metadata": {},
   "outputs": [
    {
     "data": {
      "text/plain": [
       "False"
      ]
     },
     "execution_count": 16,
     "metadata": {},
     "output_type": "execute_result"
    }
   ],
   "source": [
    "# Check\n",
    "spy_game([1,7,2,0,4,5,0])\n",
    "#False"
   ]
  },
  {
   "cell_type": "code",
   "execution_count": 22,
   "metadata": {},
   "outputs": [
    {
     "data": {
      "text/plain": [
       "False"
      ]
     },
     "execution_count": 22,
     "metadata": {},
     "output_type": "execute_result"
    }
   ],
   "source": [
    "# Check\n",
    "spy_game([0,0,0,0,0,0,2,0,0,0,4,5])\n",
    "#false"
   ]
  },
  {
   "cell_type": "code",
   "execution_count": 30,
   "metadata": {},
   "outputs": [],
   "source": [
    "# challenging functions 1.2\n",
    "\n",
    "# COUNT PRIMES: Write a function that returns the number of prime numbers \n",
    "# that exist up to and including a given number\n",
    "# count_primes(100) --> 25\n",
    "# By convention, 0 and 1 are not prime.\n",
    "\n",
    "def count_primes(num):\n",
    "    \n",
    "    #declare list to capture prime numbers\n",
    "    mylist = list()\n",
    "    \n",
    "    #first loop to captue prime numbers with prime boolen\n",
    "    for i in range(2,num +1):      \n",
    "        prime = True  \n",
    "                    \n",
    "   # If num is divisible by any number   \n",
    "   # between 2 and i, it is not prime \n",
    "    \n",
    "        #second loop is internally checking prime number against all other numbers \n",
    "        for n in range(2,i): \n",
    "            if (i % n== 0): \n",
    "                prime = False              \n",
    "        \n",
    "        # if the number is prime, add to list\n",
    "        if prime:\n",
    "            mylist.append(i)\n",
    "    \n",
    "    #count the length of list\n",
    "    return len(mylist)\n",
    "\n",
    "    "
   ]
  },
  {
   "cell_type": "code",
   "execution_count": null,
   "metadata": {},
   "outputs": [],
   "source": [
    "#answer challenging function 1.2\n",
    "\n",
    "def count_primes(num):\n",
    "    primes = [2]\n",
    "    x = 3\n",
    "    if num < 2:  # for the case of num = 0 or 1\n",
    "        return 0\n",
    "    while x <= num:\n",
    "        for y in range(3,x,2):  # test all odd factors up to x-1\n",
    "            if x%y == 0:\n",
    "                x += 2\n",
    "                break\n",
    "        else:\n",
    "            primes.append(x)\n",
    "            x += 2\n",
    "    print(primes)\n",
    "    return len(primes)\n",
    "             "
   ]
  },
  {
   "cell_type": "code",
   "execution_count": null,
   "metadata": {},
   "outputs": [],
   "source": [
    "#answer - another soluction to 1.2\n",
    "\n",
    "def count_primes2(num):\n",
    "    primes = [2]\n",
    "    x = 3\n",
    "    if num < 2:\n",
    "        return 0\n",
    "    while x <= num:\n",
    "        for y in primes:  # use the primes list!\n",
    "            if x%y == 0:\n",
    "                x += 2\n",
    "                break\n",
    "        else:\n",
    "            primes.append(x)\n",
    "            x += 2\n",
    "    print(primes)\n",
    "    return len(primes)"
   ]
  },
  {
   "cell_type": "code",
   "execution_count": 31,
   "metadata": {},
   "outputs": [
    {
     "data": {
      "text/plain": [
       "25"
      ]
     },
     "execution_count": 31,
     "metadata": {},
     "output_type": "execute_result"
    }
   ],
   "source": [
    "# Check\n",
    "count_primes(100)\n",
    "\n",
    "#returns 25"
   ]
  },
  {
   "cell_type": "code",
   "execution_count": 186,
   "metadata": {},
   "outputs": [],
   "source": [
    "# challenging functions 1.3\n",
    "\n",
    "#Just for fun:\n",
    "#PRINT BIG: Write a function that takes in a single letter, and returns a 5x5 representation \n",
    "#of that letter\n",
    "#print_big('a')\n",
    "\n",
    "#out:   *  \n",
    "#      * *\n",
    "#     *****\n",
    "#     *   *\n",
    "#     *   *\n",
    "#HINT: Consider making a dictionary of possible patterns, and mapping the alphabet \n",
    "#to specific 5-line combinations of patterns.\n",
    "#For purposes of this exercise, it's ok if your dictionary stops at \"E\".\n",
    "# Python code to print patterns\n",
    "\n",
    "#This does not work properly!\n",
    "\n",
    "def print_big(letter):\n",
    "    \n",
    "# Dictionary with key:value pair where key is a character and value is location on grid\n",
    "\n",
    "    letterp = {\n",
    "    'A': [(3,1),(2,2),(4,2),(2,3),(3,3),(4,3),(2,4),(4,4),(2,5),(4,5)],\n",
    "    'B': [(2,1),(3,1),(4,1),(2,2),(4,2),(2,3),(3,3),(2,4),(4,4),(2,5),(3,5),(4,5)],\n",
    "    'C': [(2,1),(3,1),(4,1),(2,2),(2,3),(2,4),(2,5),(3,5),(4,5)],\n",
    "    'D': [(2,1),(3,1),(2,2),(2,4),(2,3),(4,3),(2,4),(4,4),(2,5),(3,5)],\n",
    "    'E': [(2,1),(3,1),(4,1),(2,2),(2,3),(3,3),(4,3),(2,4),(2,5),(3,5),(4,5)]\n",
    "    }\n",
    "    \n",
    "    result_str=\"\";\n",
    "\n",
    "    for key, values in letterp.items():\n",
    "        #if the input letter with upper case matches a key, print value of that key\n",
    "        if letter.upper() == key:\n",
    "            #print(values)\n",
    "            val_length = len(values)\n",
    "            #print(val_length)\n",
    "            \n",
    "            # using list comprehension to get names \n",
    "            xcolumn = [xlist[0] for xlist in values]\n",
    "            yrow = [ylist[1] for ylist in values]\n",
    "            \n",
    "            #print(column)\n",
    "            #print(row)\n",
    "\n",
    "               #[i[0] for i in a] \n",
    "\n",
    "            for i in range(0,val_length):\n",
    "                for column in range(0,5):    \n",
    "                    for row in range(0,5):                  \n",
    "                        if (column == xcolumn[i] and row == yrow[i]):                       \n",
    "                            result_str=result_str+ \"*\" \n",
    "                        else:      \n",
    "                            result_str=result_str+ \" \"\n",
    "                result_str=result_str + \"\\n\"    \n",
    "            print(result_str) \n",
    "            \n",
    "\n",
    "\n"
   ]
  },
  {
   "cell_type": "code",
   "execution_count": 17,
   "metadata": {},
   "outputs": [],
   "source": [
    "#answer challening function 1.3\n",
    "\n",
    "def print_big(letter):\n",
    "    patterns = {1:'  *  ',2:' * * ',3:'*   *',4:'*****',5:'**** ',6:'   * ',7:' *   ',8:'*   * ',9:'*    '}\n",
    "    alphabet = {'A':[1,2,4,3,3],'B':[5,3,5,3,5],'C':[4,9,9,9,4],'D':[5,3,3,3,5],'E':[4,9,4,9,4]}\n",
    "    for pattern in alphabet[letter.upper()]:\n",
    "        print(patterns[pattern])"
   ]
  },
  {
   "cell_type": "code",
   "execution_count": 18,
   "metadata": {},
   "outputs": [
    {
     "name": "stdout",
     "output_type": "stream",
     "text": [
      "  *  \n",
      " * * \n",
      "*****\n",
      "*   *\n",
      "*   *\n"
     ]
    }
   ],
   "source": [
    "print_big('a')"
   ]
  },
  {
   "cell_type": "code",
   "execution_count": null,
   "metadata": {},
   "outputs": [],
   "source": []
  }
 ],
 "metadata": {
  "kernelspec": {
   "display_name": "Python 3",
   "language": "python",
   "name": "python3"
  },
  "language_info": {
   "codemirror_mode": {
    "name": "ipython",
    "version": 3
   },
   "file_extension": ".py",
   "mimetype": "text/x-python",
   "name": "python",
   "nbconvert_exporter": "python",
   "pygments_lexer": "ipython3",
   "version": "3.7.4"
  }
 },
 "nbformat": 4,
 "nbformat_minor": 2
}
