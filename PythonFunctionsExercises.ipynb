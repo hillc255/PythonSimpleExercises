{
 "cells": [
  {
   "cell_type": "code",
   "execution_count": null,
   "metadata": {},
   "outputs": [],
   "source": [
    "# Functions\n",
    "# Solutions https://docs.google.com/document/d/181AMuP-V5VnSorl_q7p6BYd8mwXWBnsZY_sSPA8trfc/edit?usp=sharing"
   ]
  },
  {
   "cell_type": "code",
   "execution_count": null,
   "metadata": {},
   "outputs": [],
   "source": [
    "# Part 1: 10 In Course Coding Exercises \n",
    "# See: lecture 26 for some useful links for warm-up problems from codingbat.com"
   ]
  },
  {
   "cell_type": "code",
   "execution_count": null,
   "metadata": {},
   "outputs": [],
   "source": [
    "# Part 2: Function Practice Exercises \n",
    "# WarmUp, Level1,  harder: Level2, very difficult: Challenge"
   ]
  },
  {
   "cell_type": "code",
   "execution_count": null,
   "metadata": {},
   "outputs": [],
   "source": [
    "# Part 3 : Function and methods homework\n",
    "#1 function word problems"
   ]
  },
  {
   "cell_type": "code",
   "execution_count": null,
   "metadata": {},
   "outputs": [],
   "source": [
    "# 1 function myfunc that prints string \"Hello World\"\n",
    "def myfunc():\n",
    "    print(\"Hello World\")\n",
    "myfunc()    "
   ]
  },
  {
   "cell_type": "code",
   "execution_count": null,
   "metadata": {},
   "outputs": [],
   "source": [
    "# 2 function called myfunc that takes in name and prints 'Hello Name\n",
    "\n",
    "def myfunc(name):\n",
    "    print('Hello {}'.format(name))\n",
    "    \n",
    "myfunc('Claudia') "
   ]
  },
  {
   "cell_type": "code",
   "execution_count": null,
   "metadata": {},
   "outputs": [],
   "source": [
    "# 3 define function called myfunc takes in Boolean value\n",
    "# if true returns 'Hello' if false returns 'Goodbye'\n",
    "\n",
    "def myfunc(word):\n",
    "    if word.lower() == 'claudia':\n",
    "        print('Hello')\n",
    "    else:\n",
    "        print('Goodbye')"
   ]
  },
  {
   "cell_type": "code",
   "execution_count": null,
   "metadata": {},
   "outputs": [],
   "source": [
    "myfunc('claudia')"
   ]
  },
  {
   "cell_type": "code",
   "execution_count": null,
   "metadata": {},
   "outputs": [],
   "source": [
    "myfunc('john')"
   ]
  },
  {
   "cell_type": "code",
   "execution_count": null,
   "metadata": {},
   "outputs": [],
   "source": [
    "def myfunc(a):\n",
    "    if a == True:\n",
    "        return 'Hello'\n",
    "    elif a == False:\n",
    "        return 'Goodbye'"
   ]
  },
  {
   "cell_type": "code",
   "execution_count": null,
   "metadata": {},
   "outputs": [],
   "source": [
    "b = 4\n",
    "c = 5\n",
    "a = b < 5\n",
    "myfunc(a)"
   ]
  },
  {
   "cell_type": "code",
   "execution_count": null,
   "metadata": {},
   "outputs": [],
   "source": [
    "a = b > 5\n",
    "myfunc(a)"
   ]
  },
  {
   "cell_type": "code",
   "execution_count": null,
   "metadata": {},
   "outputs": [],
   "source": [
    "# 4 define function called myfunc that takes in 3 arguments: x,y,z\n",
    "# if z is True retrn x / if Z if False, return y\n",
    "# example of NONDEFAULT arguments come BEFORE default arguments\n",
    "\n",
    "def myfunc(z, x ='True', y ='False'):\n",
    "    if z == True:\n",
    "        return x\n",
    "    elif z == 'False':\n",
    "        return y"
   ]
  },
  {
   "cell_type": "code",
   "execution_count": null,
   "metadata": {},
   "outputs": [],
   "source": [
    "z = 4 > 3  #true\n",
    "myfunc(z)"
   ]
  },
  {
   "cell_type": "code",
   "execution_count": null,
   "metadata": {},
   "outputs": [],
   "source": [
    "z = 4 < 3 #false\n",
    "myfunc(z)"
   ]
  },
  {
   "cell_type": "code",
   "execution_count": null,
   "metadata": {},
   "outputs": [],
   "source": [
    "def myfunc(x,y,z):\n",
    "    if z == True:\n",
    "        return x\n",
    "    else:\n",
    "        return y"
   ]
  },
  {
   "cell_type": "code",
   "execution_count": null,
   "metadata": {},
   "outputs": [],
   "source": [
    "# 5 define function myfunc takes in 2 arguments and returns their sum\n",
    "\n",
    "def myfunc(x,y):\n",
    "    return x + y\n",
    "\n",
    "\n",
    "myfunc(4,5)"
   ]
  },
  {
   "cell_type": "code",
   "execution_count": 4,
   "metadata": {},
   "outputs": [
    {
     "data": {
      "text/plain": [
       "True"
      ]
     },
     "execution_count": 4,
     "metadata": {},
     "output_type": "execute_result"
    }
   ],
   "source": [
    "# 6 define function called \"is_even\" takes in one argument returns\n",
    "# True if passed in value is even and False if not\n",
    "\n",
    "def is_even(x):\n",
    "    if x % 2 == 0:\n",
    "        return True\n",
    "    else:\n",
    "        return False\n",
    " \n",
    "# is_even(3)  #false\n",
    "is_even(4)  #true"
   ]
  },
  {
   "cell_type": "code",
   "execution_count": null,
   "metadata": {},
   "outputs": [],
   "source": [
    "#7 -define function \"is_greater\" takes in 2 arguments returns True if \n",
    "# first value greater than second False if less than or equal to the second\n",
    "\n",
    "def is_greater(x,y):\n",
    "    if x > y:\n",
    "        return True\n",
    "    else: \n",
    "        return False"
   ]
  },
  {
   "cell_type": "code",
   "execution_count": null,
   "metadata": {},
   "outputs": [],
   "source": [
    "is_greater(5,6)"
   ]
  },
  {
   "cell_type": "code",
   "execution_count": null,
   "metadata": {},
   "outputs": [],
   "source": [
    "is_greater(6,5)"
   ]
  },
  {
   "cell_type": "code",
   "execution_count": null,
   "metadata": {},
   "outputs": [],
   "source": [
    "is_greater(5,5)"
   ]
  },
  {
   "cell_type": "code",
   "execution_count": null,
   "metadata": {},
   "outputs": [],
   "source": [
    "#  *args  - returns tuple\n",
    "#  positional arguments - return as many param as you would like\n",
    "\n",
    "def myfunc(*args):\n",
    "    return sum(args) * 0.05\n",
    "    \n",
    "    \n",
    "myfunc(4,5,6,200,43)    #pass in as many params as you want"
   ]
  },
  {
   "cell_type": "code",
   "execution_count": null,
   "metadata": {},
   "outputs": [],
   "source": [
    "def myfunc(*args):\n",
    "    for item in args:\n",
    "        print(item)\n",
    "        \n",
    "myfunc(40,50,200,2,345)                "
   ]
  },
  {
   "cell_type": "code",
   "execution_count": null,
   "metadata": {},
   "outputs": [],
   "source": [
    "#  **kwargs  returns dictionary\n",
    "\n",
    "def myfunc(**kwargs):\n",
    "    print(kwargs)\n",
    "    if 'fruit' in kwargs:\n",
    "        print('My fruit of choise is {}'.format(kwargs['fruit']))\n",
    "    else:\n",
    "        print('I did not find any fruit here')\n",
    "        \n",
    "myfunc(fruit='apple', veggie = 'lettuce')        "
   ]
  },
  {
   "cell_type": "code",
   "execution_count": null,
   "metadata": {},
   "outputs": [],
   "source": [
    "def myfunc(*args,**kwargs):  #must pu args, kwargs in this order\n",
    "    print(args)\n",
    "    print(kwargs)\n",
    "    print('I would like {} {}'.format(args[2],kwargs['food']))\n",
    "    \n",
    "myfunc(10,20,30,fruit='orange',food='eggs',animal='dog')    "
   ]
  },
  {
   "cell_type": "code",
   "execution_count": null,
   "metadata": {},
   "outputs": [],
   "source": [
    "# 8 - define function myfunc takes in arbitary number of arguments\n",
    "# and returns sum of those arguments\n",
    "\n",
    "def myfunc(*args):\n",
    "    return sum(args)\n",
    "\n",
    "myfunc(1,2,3,4,5,6,7)\n",
    "#28"
   ]
  },
  {
   "cell_type": "code",
   "execution_count": null,
   "metadata": {},
   "outputs": [],
   "source": [
    "#9 -define func that in arbitrary number of arguments returns list\n",
    "# containing only those arguments as even\n",
    "\n",
    "def myfunc(*args):\n",
    "    #create an empty list\n",
    "    even = []\n",
    "    \n",
    "    #for loop through list of arguments\n",
    "    for i in args:\n",
    "        \n",
    "        # look for even values if mod 2\n",
    "        if i % 2 == 0:\n",
    "            \n",
    "            #add even values to even list\n",
    "            even.append(i)\n",
    "            \n",
    "    #only print final list        \n",
    "    return even"
   ]
  },
  {
   "cell_type": "code",
   "execution_count": null,
   "metadata": {},
   "outputs": [],
   "source": [
    "myfunc(1000,2,36,41,56,77,100,51,4,381,500) \n",
    "# expected return values 1000,2,36,56,100,4,500"
   ]
  },
  {
   "cell_type": "code",
   "execution_count": 53,
   "metadata": {},
   "outputs": [],
   "source": [
    "#10 - define function myfunc takes in string and returns matching\n",
    "# string with \n",
    "#every even letter in upper case\n",
    "#every odd letter in lower case\n",
    "\n",
    "def myfunc(oldstring): \n",
    "    newstring = \"\"    \n",
    "    for i in range(0, len(oldstring)):\n",
    "        if i % 2 == 0:\n",
    "            newstring = newstring + (oldstring[i].lower())\n",
    "        else:\n",
    "            newstring = newstring + (oldstring[i].upper())\n",
    "    return newstring"
   ]
  },
  {
   "cell_type": "code",
   "execution_count": 54,
   "metadata": {},
   "outputs": [
    {
     "data": {
      "text/plain": [
       "'aBcDeFgHiJkLmNoP'"
      ]
     },
     "execution_count": 54,
     "metadata": {},
     "output_type": "execute_result"
    }
   ],
   "source": [
    "myfunc(\"abcdefghijklmnop\")"
   ]
  },
  {
   "cell_type": "code",
   "execution_count": 55,
   "metadata": {},
   "outputs": [
    {
     "data": {
      "text/plain": [
       "'aNtHrOpOmOrPhIsM'"
      ]
     },
     "execution_count": 55,
     "metadata": {},
     "output_type": "execute_result"
    }
   ],
   "source": [
    "myfunc(\"Anthropomorphism\")\n",
    "#'aNtHrOpOmOrPhIsM'"
   ]
  }
 ],
 "metadata": {
  "kernelspec": {
   "display_name": "Python 3",
   "language": "python",
   "name": "python3"
  },
  "language_info": {
   "codemirror_mode": {
    "name": "ipython",
    "version": 3
   },
   "file_extension": ".py",
   "mimetype": "text/x-python",
   "name": "python",
   "nbconvert_exporter": "python",
   "pygments_lexer": "ipython3",
   "version": "3.7.4"
  }
 },
 "nbformat": 4,
 "nbformat_minor": 2
}
