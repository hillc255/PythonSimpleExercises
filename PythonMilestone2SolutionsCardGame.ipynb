{
 "cells": [
  {
   "cell_type": "code",
   "execution_count": 1,
   "metadata": {},
   "outputs": [],
   "source": [
    "#import- shuffling and global variables\n",
    "import random\n",
    "\n",
    "suits = ('Hearts', 'Diamonds', 'Spades', 'Clubs')\n",
    "ranks = ('Two', 'Three', 'Four', 'Five', 'Six', 'Seven', 'Eight', 'Nine', 'Ten', 'Jack', 'Queen', 'King', 'Ace')\n",
    "values = {'Two':2, 'Three':3, 'Four':4, 'Five':5, 'Six':6, 'Seven':7, 'Eight':8, 'Nine':9, 'Ten':10, 'Jack':10,\n",
    "         'Queen':10, 'King':10, 'Ace':11}\n",
    "\n",
    "playing = True"
   ]
  },
  {
   "cell_type": "code",
   "execution_count": 2,
   "metadata": {},
   "outputs": [],
   "source": [
    "#card class with suits and ranks\n",
    "#return of string method with rank and suit\n",
    "\n",
    "class Card:\n",
    "\n",
    "    def __init__(self,suit,rank):\n",
    "        self.suit = suit\n",
    "        self.rank = rank\n",
    " \n",
    "    def __str__(self):\n",
    "        return self.rank + ' of ' + self.suit"
   ]
  },
  {
   "cell_type": "code",
   "execution_count": 3,
   "metadata": {},
   "outputs": [],
   "source": [
    "#Instantiate 52 deck of cards\n",
    "class Deck:\n",
    "    \n",
    "    def __init__(self):\n",
    "        self.deck = []  # start with an empty list\n",
    "        for suit in suits:\n",
    "            for rank in ranks:\n",
    "                self.deck.append(Card(suit,rank))  # build Card objects and add them to the list\n",
    "    \n",
    "    def __str__(self):\n",
    "        deck_comp = ''  # start with an empty string\n",
    "        for card in self.deck:\n",
    "            deck_comp += '\\n '+card.__str__() # add each Card object's print string\n",
    "        return 'The deck has:' + deck_comp\n",
    "\n",
    "    def shuffle(self):\n",
    "        random.shuffle(self.deck)\n",
    "        \n",
    "    def deal(self):\n",
    "        single_card = self.deck.pop()\n",
    "        return single_card"
   ]
  },
  {
   "cell_type": "code",
   "execution_count": 11,
   "metadata": {
    "scrolled": true
   },
   "outputs": [
    {
     "name": "stdout",
     "output_type": "stream",
     "text": [
      "The deck has:\n",
      " Ace of Diamonds\n",
      " Six of Spades\n",
      " Queen of Clubs\n",
      " Two of Spades\n",
      " Six of Hearts\n",
      " Two of Clubs\n",
      " Six of Clubs\n",
      " Jack of Hearts\n",
      " Ace of Clubs\n",
      " Eight of Clubs\n",
      " Jack of Clubs\n",
      " Ten of Clubs\n",
      " King of Hearts\n",
      " Nine of Diamonds\n",
      " Ace of Spades\n",
      " Seven of Clubs\n",
      " Nine of Hearts\n",
      " Seven of Hearts\n",
      " Six of Diamonds\n",
      " Four of Hearts\n",
      " Five of Clubs\n",
      " Four of Diamonds\n",
      " Two of Hearts\n",
      " Three of Hearts\n",
      " Eight of Hearts\n",
      " Three of Spades\n",
      " Eight of Diamonds\n",
      " Nine of Clubs\n",
      " Three of Diamonds\n",
      " Seven of Diamonds\n",
      " Five of Hearts\n",
      " Queen of Diamonds\n",
      " Nine of Spades\n",
      " Queen of Hearts\n",
      " Jack of Spades\n",
      " Three of Clubs\n",
      " Ten of Hearts\n",
      " Two of Diamonds\n",
      " Five of Spades\n",
      " Jack of Diamonds\n",
      " Ten of Spades\n",
      " Four of Spades\n",
      " Eight of Spades\n",
      " Queen of Spades\n",
      " King of Clubs\n",
      " Ten of Diamonds\n",
      " Seven of Spades\n",
      " King of Diamonds\n",
      " Five of Diamonds\n",
      " King of Spades\n",
      " Four of Clubs\n",
      " Ace of Hearts\n"
     ]
    }
   ],
   "source": [
    "test_deck = Deck()\n",
    "test_deck.shuffle()\n",
    "print(test_deck)"
   ]
  },
  {
   "cell_type": "code",
   "execution_count": 21,
   "metadata": {},
   "outputs": [],
   "source": [
    "#Hand class to calculate value\n",
    "class Hand:\n",
    "    def __init__(self):\n",
    "        self.cards = []  # start with an empty list as we did in the Deck class\n",
    "        self.value = 0   # start with zero value\n",
    "        self.aces = 0    # add an attribute to keep track of aces\n",
    "    \n",
    "    def add_card(self,card):\n",
    "        #card passed in\n",
    "        #from Deck.deal --> single Card(suit,rank) object\n",
    "        self.cards.append(card)\n",
    "        self.value += values[card.rank]\n",
    "        \n",
    "        #track aces\n",
    "        if card.rank == 'Ace':\n",
    "            self.aces += 1\n",
    "    \n",
    "    def adjust_for_ace(self):\n",
    "\n",
    "        #if total value > 21 and I still have an ace\n",
    "        #then change my ace to be 1 instead of an 11\n",
    "        while self.value > 21 and self.ace > 0:\n",
    "            self.value -= 10\n",
    "            self.aces -= 1\n",
    "        "
   ]
  },
  {
   "cell_type": "code",
   "execution_count": 22,
   "metadata": {},
   "outputs": [
    {
     "name": "stdout",
     "output_type": "stream",
     "text": [
      "Ace of Hearts\n",
      "11\n"
     ]
    }
   ],
   "source": [
    "test_deck = Deck()\n",
    "test_deck.shuffle()\n",
    "\n",
    "#player\n",
    "test_player = Hand()\n",
    "#deal 1 card from deck CARD(suit,rank)\n",
    "pulled_card = test_deck.deal()\n",
    "print(pulled_card)\n",
    "test_player.add_card(pulled_card)\n",
    "print(test_player.value)"
   ]
  },
  {
   "cell_type": "code",
   "execution_count": 23,
   "metadata": {},
   "outputs": [],
   "source": [
    "#can repeat pulling a card and adding value\n",
    "test_player.add_card(test_deck.deal())"
   ]
  },
  {
   "cell_type": "code",
   "execution_count": 17,
   "metadata": {},
   "outputs": [
    {
     "data": {
      "text/plain": [
       "22"
      ]
     },
     "execution_count": 17,
     "metadata": {},
     "output_type": "execute_result"
    }
   ],
   "source": [
    "test_player.value"
   ]
  },
  {
   "cell_type": "code",
   "execution_count": 24,
   "metadata": {},
   "outputs": [],
   "source": [
    "#create chips class\n",
    "class Chips:\n",
    "    \n",
    "    def _init_(self,total=100):\n",
    "        self.total = total #this can be set by default value or supplied by user input\n",
    "        self.bet = 0\n",
    "        \n",
    "    def win_bet(self):\n",
    "        self.total += self.bet\n",
    "        \n",
    "    def lose_bet(self):\n",
    "        self.total -= self.bet\n",
    "        "
   ]
  },
  {
   "cell_type": "code",
   "execution_count": null,
   "metadata": {},
   "outputs": [],
   "source": []
  }
 ],
 "metadata": {
  "kernelspec": {
   "display_name": "Python 3",
   "language": "python",
   "name": "python3"
  },
  "language_info": {
   "codemirror_mode": {
    "name": "ipython",
    "version": 3
   },
   "file_extension": ".py",
   "mimetype": "text/x-python",
   "name": "python",
   "nbconvert_exporter": "python",
   "pygments_lexer": "ipython3",
   "version": "3.7.4"
  }
 },
 "nbformat": 4,
 "nbformat_minor": 2
}
